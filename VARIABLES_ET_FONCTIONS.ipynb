{
  "nbformat": 4,
  "nbformat_minor": 0,
  "metadata": {
    "colab": {
      "provenance": []
    },
    "kernelspec": {
      "name": "python3",
      "display_name": "Python 3"
    },
    "language_info": {
      "name": "python"
    }
  },
  "cells": [
    {
      "cell_type": "markdown",
      "source": [
        "# INTRODUCTION PYTHON"
      ],
      "metadata": {
        "id": "iTE46BTOnbid"
      }
    },
    {
      "cell_type": "code",
      "source": [
        "\"Hello everyone\"\n"
      ],
      "metadata": {
        "colab": {
          "base_uri": "https://localhost:8080/",
          "height": 35
        },
        "id": "NZeIKc5Xnk-Y",
        "outputId": "e5e0abef-f59f-4e57-cf76-9b7cfa379314"
      },
      "execution_count": 2,
      "outputs": [
        {
          "output_type": "execute_result",
          "data": {
            "text/plain": [
              "'Hello everyone'"
            ],
            "application/vnd.google.colaboratory.intrinsic+json": {
              "type": "string"
            }
          },
          "metadata": {},
          "execution_count": 2
        }
      ]
    },
    {
      "cell_type": "markdown",
      "source": [
        "# 1-variables et fonctions"
      ],
      "metadata": {
        "id": "ZdNZJ30nnmbg"
      }
    },
    {
      "cell_type": "code",
      "source": [
        "x = 3 # type int\n",
        "y = 2.5 # type float\n",
        "prenom = 'Belha' # type string\n",
        "z = True # type Bool\n"
      ],
      "metadata": {
        "id": "SF1thba-nsEU"
      },
      "execution_count": 5,
      "outputs": []
    },
    {
      "cell_type": "code",
      "source": [
        "# Opérations arithmétiques\n",
        "print('x + y =', x + y)\n",
        "print('x - y =', x - y)\n",
        "print('x / y =', x / y)\n",
        "print('x // y =', x // y) # division entiere (tres utile pour les tableaux Numpy)\n",
        "print('x * y =', x * y)\n",
        "print('x ^ y =', x ** y) # x puissance y"
      ],
      "metadata": {
        "colab": {
          "base_uri": "https://localhost:8080/"
        },
        "id": "OWYMBDlDonJ7",
        "outputId": "6480568a-fc6f-4d0e-9256-432368d299ed"
      },
      "execution_count": 6,
      "outputs": [
        {
          "output_type": "stream",
          "name": "stdout",
          "text": [
            "x + y = 5.5\n",
            "x - y = 0.5\n",
            "x / y = 1.2\n",
            "x // y = 1.0\n",
            "x * y = 7.5\n",
            "x ^ y = 15.588457268119896\n"
          ]
        }
      ]
    },
    {
      "cell_type": "code",
      "source": [
        "\n",
        "# Opérations de comparaison\n",
        "print('égalité :', x == y)\n",
        "print('inégalité :', x != y)\n",
        "print('inférieur ou égal :', x <= y)\n",
        "print('supérieur ou égal :', x >= y)"
      ],
      "metadata": {
        "colab": {
          "base_uri": "https://localhost:8080/"
        },
        "id": "xEyZdSBDp3AZ",
        "outputId": "2b3aceb2-3842-436c-88ef-d289451c8404"
      },
      "execution_count": 7,
      "outputs": [
        {
          "output_type": "stream",
          "name": "stdout",
          "text": [
            "égalité : False\n",
            "inégalité : True\n",
            "inférieur ou égal : False\n",
            "supérieur ou égal : True\n"
          ]
        }
      ]
    },
    {
      "cell_type": "code",
      "source": [
        "\n",
        "\n",
        "# Opérations logiques\n",
        "print('ET logique :', x > 2 and y < 3)  # True si les deux conditions sont vraies\n",
        "print('OU logique :', x > 2 or y < 3)   # True si au moins une des conditions est vraie\n",
        "print('NON logique :', not (x > 2))     # Inverse la valeur de la condition\n"
      ],
      "metadata": {
        "colab": {
          "base_uri": "https://localhost:8080/"
        },
        "id": "y0uHbCAzqLIT",
        "outputId": "0d72cf2a-3026-44ac-961d-77de19d60f45"
      },
      "execution_count": 9,
      "outputs": [
        {
          "output_type": "stream",
          "name": "stdout",
          "text": [
            "ET logique : True\n",
            "OU logique : True\n",
            "NON logique : False\n"
          ]
        }
      ]
    },
    {
      "cell_type": "markdown",
      "source": [
        "Note : Les opérations de comparaison et de logique utilisées ensemble permettent de construire des structures algorithmiques de bases (if/esle, while, ...)"
      ],
      "metadata": {
        "id": "C03BqDC0tFl4"
      }
    },
    {
      "cell_type": "markdown",
      "source": [
        "2) Les Fonctions"
      ],
      "metadata": {
        "id": "pagFOsILtONh"
      }
    },
    {
      "cell_type": "code",
      "source": [
        "# Exemple d'une fonction f(x) = x^2\n",
        "f = lambda x : x**2\n",
        "\n",
        "print(f(3))"
      ],
      "metadata": {
        "colab": {
          "base_uri": "https://localhost:8080/"
        },
        "id": "udHRgyuEs4va",
        "outputId": "d4c8374e-93df-4885-f71c-ae27a0dff6d8"
      },
      "execution_count": 10,
      "outputs": [
        {
          "output_type": "stream",
          "name": "stdout",
          "text": [
            "9\n"
          ]
        }
      ]
    },
    {
      "cell_type": "code",
      "source": [
        "# Exemple d'une fonction g(x, y) = x^2 - y^2\n",
        "g = lambda x, y : x**2 - y**2\n",
        "\n",
        "print(g(4, 2))"
      ],
      "metadata": {
        "colab": {
          "base_uri": "https://localhost:8080/"
        },
        "id": "PbnaxCZGuNa6",
        "outputId": "34aea4e0-fcc5-4f2b-aa8b-674e3ee1016b"
      },
      "execution_count": 11,
      "outputs": [
        {
          "output_type": "stream",
          "name": "stdout",
          "text": [
            "12\n"
          ]
        }
      ]
    },
    {
      "cell_type": "markdown",
      "source": [
        "La meilleure facon de créer une fonction est d'utiliser la structure suivante : def"
      ],
      "metadata": {
        "id": "o-qGdJ3uuq46"
      }
    },
    {
      "cell_type": "code",
      "source": [
        "# exemple de fonction pratique simple avec explication\n",
        "\n",
        "def calculer_aire_rectangle(longueur, largeur):\n",
        "  \"\"\"\n",
        "  Cette fonction calcule l'aire d'un rectangle.\n",
        "\n",
        "  Args:\n",
        "    longueur: La longueur du rectangle.\n",
        "    largeur: La largeur du rectangle.\n",
        "\n",
        "  Returns:\n",
        "    L'aire du rectangle.\n",
        "  \"\"\"\n",
        "  aire = longueur * largeur\n",
        "  return aire\n",
        "\n",
        "# Appel de la fonction avec des valeurs\n",
        "longueur_rectangle = 5\n",
        "largeur_rectangle = 3\n",
        "aire_rectangle = calculer_aire_rectangle(longueur_rectangle, largeur_rectangle)\n",
        "\n",
        "print(\"L'aire du rectangle est :\", aire_rectangle)\n"
      ],
      "metadata": {
        "colab": {
          "base_uri": "https://localhost:8080/"
        },
        "id": "CICE4cx3uSYl",
        "outputId": "7a618512-3e86-4193-ce6d-5da60c5351ba"
      },
      "execution_count": 13,
      "outputs": [
        {
          "output_type": "stream",
          "name": "stdout",
          "text": [
            "L'aire du rectangle est : 15\n"
          ]
        }
      ]
    },
    {
      "cell_type": "code",
      "source": [],
      "metadata": {
        "id": "eF_02oZvu-cY"
      },
      "execution_count": null,
      "outputs": []
    }
  ]
}